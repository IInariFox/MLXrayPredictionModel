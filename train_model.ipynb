{
 "cells": [
  {
   "cell_type": "code",
   "execution_count": 5,
   "id": "62918ac5",
   "metadata": {},
   "outputs": [],
   "source": [
    "import os\n",
    "import numpy as np\n",
    "import matplotlib.pyplot as plt\n",
    "import tensorflow as tf\n",
    "from tensorflow.keras.preprocessing.image import ImageDataGenerator"
   ]
  },
  {
   "cell_type": "code",
   "execution_count": 6,
   "id": "07e6d9dc",
   "metadata": {},
   "outputs": [
    {
     "name": "stdout",
     "output_type": "stream",
     "text": [
      "Found 5216 images belonging to 2 classes.\n",
      "Found 16 images belonging to 2 classes.\n"
     ]
    }
   ],
   "source": [
    "# Directories\n",
    "train_dir = 'data/chest_xray/train'\n",
    "val_dir = 'data/chest_xray/val'\n",
    "test_dir = 'data/chest_xray/test'\n",
    "\n",
    "# ImageDataGenerator for data augmentation\n",
    "train_datagen = ImageDataGenerator(rescale=1./255,\n",
    "                                   rotation_range=20,\n",
    "                                   zoom_range=0.2,\n",
    "                                   horizontal_flip=True)\n",
    "\n",
    "val_datagen = ImageDataGenerator(rescale=1./255)\n",
    "\n",
    "# Generators\n",
    "train_generator = train_datagen.flow_from_directory(train_dir,\n",
    "                                                    target_size=(150, 150),\n",
    "                                                    batch_size=32,\n",
    "                                                    class_mode='binary')\n",
    "\n",
    "val_generator = val_datagen.flow_from_directory(val_dir,\n",
    "                                                target_size=(150, 150),\n",
    "                                                batch_size=32,\n",
    "                                                class_mode='binary')\n"
   ]
  },
  {
   "cell_type": "code",
   "execution_count": 7,
   "id": "cdc6551d",
   "metadata": {},
   "outputs": [],
   "source": [
    "model = tf.keras.models.Sequential([\n",
    "    tf.keras.layers.Conv2D(32, (3,3), activation='relu', input_shape=(150, 150, 3)),\n",
    "    tf.keras.layers.MaxPooling2D(2,2),\n",
    "\n",
    "    tf.keras.layers.Conv2D(64, (3,3), activation='relu'),\n",
    "    tf.keras.layers.MaxPooling2D(2,2),\n",
    "\n",
    "    tf.keras.layers.Conv2D(128, (3,3), activation='relu'),\n",
    "    tf.keras.layers.MaxPooling2D(2,2),\n",
    "\n",
    "    tf.keras.layers.Flatten(),\n",
    "    tf.keras.layers.Dense(512, activation='relu'),\n",
    "    tf.keras.layers.Dense(1, activation='sigmoid')\n",
    "])\n",
    "\n",
    "model.compile(optimizer='adam',\n",
    "              loss='binary_crossentropy',\n",
    "              metrics=['accuracy'])\n"
   ]
  },
  {
   "cell_type": "code",
   "execution_count": 8,
   "id": "0b181fe9",
   "metadata": {},
   "outputs": [
    {
     "name": "stdout",
     "output_type": "stream",
     "text": [
      "Epoch 1/10\n",
      "163/163 [==============================] - 212s 1s/step - loss: 0.3985 - accuracy: 0.8353 - val_loss: 0.7899 - val_accuracy: 0.6875\n",
      "Epoch 2/10\n",
      "163/163 [==============================] - 212s 1s/step - loss: 0.2284 - accuracy: 0.9091 - val_loss: 0.7207 - val_accuracy: 0.6875\n",
      "Epoch 3/10\n",
      "163/163 [==============================] - 215s 1s/step - loss: 0.1926 - accuracy: 0.9222 - val_loss: 0.6197 - val_accuracy: 0.6875\n",
      "Epoch 4/10\n",
      "163/163 [==============================] - 202s 1s/step - loss: 0.1739 - accuracy: 0.9329 - val_loss: 0.6354 - val_accuracy: 0.8125\n",
      "Epoch 5/10\n",
      "163/163 [==============================] - 202s 1s/step - loss: 0.1905 - accuracy: 0.9239 - val_loss: 0.4873 - val_accuracy: 0.8125\n",
      "Epoch 6/10\n",
      "163/163 [==============================] - 200s 1s/step - loss: 0.1533 - accuracy: 0.9419 - val_loss: 0.7296 - val_accuracy: 0.7500\n",
      "Epoch 7/10\n",
      "163/163 [==============================] - 201s 1s/step - loss: 0.1515 - accuracy: 0.9448 - val_loss: 0.9398 - val_accuracy: 0.6250\n",
      "Epoch 8/10\n",
      "163/163 [==============================] - 201s 1s/step - loss: 0.1430 - accuracy: 0.9457 - val_loss: 0.9885 - val_accuracy: 0.6250\n",
      "Epoch 9/10\n",
      "163/163 [==============================] - 201s 1s/step - loss: 0.1293 - accuracy: 0.9498 - val_loss: 0.7522 - val_accuracy: 0.5625\n",
      "Epoch 10/10\n",
      "163/163 [==============================] - 205s 1s/step - loss: 0.1267 - accuracy: 0.9500 - val_loss: 0.9265 - val_accuracy: 0.6250\n"
     ]
    }
   ],
   "source": [
    "history = model.fit(train_generator,\n",
    "                    epochs=10,\n",
    "                    validation_data=val_generator)"
   ]
  },
  {
   "cell_type": "code",
   "execution_count": 9,
   "id": "5383fdb5",
   "metadata": {},
   "outputs": [
    {
     "name": "stdout",
     "output_type": "stream",
     "text": [
      "Found 624 images belonging to 2 classes.\n",
      "20/20 [==============================] - 14s 712ms/step - loss: 0.3935 - accuracy: 0.8798\n",
      "Test Accuracy: 0.88\n"
     ]
    }
   ],
   "source": [
    "# Evaluate on test data\n",
    "test_datagen = ImageDataGenerator(rescale=1./255)\n",
    "test_generator = test_datagen.flow_from_directory(test_dir,\n",
    "                                                  target_size=(150, 150),\n",
    "                                                  batch_size=32,\n",
    "                                                  class_mode='binary')\n",
    "\n",
    "test_loss, test_acc = model.evaluate(test_generator)\n",
    "print(f'Test Accuracy: {test_acc:.2f}')\n"
   ]
  },
  {
   "cell_type": "code",
   "execution_count": 10,
   "id": "d1dde7db",
   "metadata": {},
   "outputs": [],
   "source": [
    "# Create model directory in backend/\n",
    "model_save_path = 'backend/model/pneumonia_model.keras'\n",
    "model.save(model_save_path)\n"
   ]
  }
 ],
 "metadata": {
  "kernelspec": {
   "display_name": "Python 3 (ipykernel)",
   "language": "python",
   "name": "python3"
  },
  "language_info": {
   "codemirror_mode": {
    "name": "ipython",
    "version": 3
   },
   "file_extension": ".py",
   "mimetype": "text/x-python",
   "name": "python",
   "nbconvert_exporter": "python",
   "pygments_lexer": "ipython3",
   "version": "3.11.4"
  }
 },
 "nbformat": 4,
 "nbformat_minor": 5
}
